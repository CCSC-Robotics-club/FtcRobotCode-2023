{
 "cells": [
  {
   "cell_type": "code",
   "execution_count": null,
   "id": "43b05ab5",
   "metadata": {},
   "outputs": [],
   "source": [
    "# process and cut the pictures\n",
    "from PIL import Image\n",
    "import os\n",
    "\n",
    "path = '/home/mw/'\n",
    "for i in range(1,4):\n",
    "    for rawImage in os.listdir(path + str(i) + \"/\"):\n",
    "        img = Image.open(path + str(i) + \"/\" + rawImage) # read image from file system\n",
    "        img = img.rotate(180) # rotate it 180 degrees\n",
    "        box = (400, 360, 760, 720) # the region that the signal sleeves will be seen\n",
    "        img = img.crop(box) # cut the region down, into a 360 by 360 image\n",
    "        img.show()\n",
    "        img.save(path + str(i) + \"/\" + rawImage) # replace the original picture"
   ]
  }
 ],
 "metadata": {
  "kernelspec": {
   "display_name": "Python 3 (ipykernel)",
   "language": "python",
   "name": "python3"
  },
  "language_info": {
   "codemirror_mode": {
    "name": "ipython",
    "version": 3
   },
   "file_extension": ".py",
   "mimetype": "text/x-python",
   "name": "python",
   "nbconvert_exporter": "python",
   "pygments_lexer": "ipython3",
   "version": "3.9.13"
  }
 },
 "nbformat": 4,
 "nbformat_minor": 5
}
