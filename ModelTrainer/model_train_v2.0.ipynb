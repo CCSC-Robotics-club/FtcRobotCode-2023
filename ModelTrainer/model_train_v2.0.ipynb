{
 "cells": [
  {
   "cell_type": "code",
   "execution_count": 4,
   "id": "43b05ab5",
   "metadata": {},
   "outputs": [],
   "source": [
    "# rotate and cut the pictures\n",
    "from PIL import Image\n",
    "import os\n",
    "\n",
    "path = \"C:\\\\Users\\\\Administrator\\\\Pictures\\\\\"\n",
    "for i in range(1,4):\n",
    "    for rawImage in os.listdir(path + str(i) + \"\\\\\"):\n",
    "        img = Image.open(path + str(i) + \"\\\\\" + rawImage) # read image from file system\n",
    "        img = img.rotate(180) # rotate it 180 degrees\n",
    "        box = (400, 360, 760, 720) # the region that the signal sleeves will be seen\n",
    "        img = img.crop(box) # cut the region down, into a 360 by 360 image\n",
    "        # img.show()\n",
    "        img.save(path + str(i) + \"\\\\\" + rawImage) # replace the original picture\n",
    "        print(i)"
   ]
  },
  {
   "cell_type": "code",
   "execution_count": 5,
   "id": "0da3e8fc",
   "metadata": {},
   "outputs": [
    {
     "ename": "ModuleNotFoundError",
     "evalue": "No module named 'tensorflow'",
     "output_type": "error",
     "traceback": [
      "\u001b[1;31m---------------------------------------------------------------------------\u001b[0m",
      "\u001b[1;31mModuleNotFoundError\u001b[0m                       Traceback (most recent call last)",
      "\u001b[1;32m~\\AppData\\Local\\Temp\\ipykernel_6584\\3791142737.py\u001b[0m in \u001b[0;36m<module>\u001b[1;34m\u001b[0m\n\u001b[0;32m      2\u001b[0m \u001b[1;33m(\u001b[0m\u001b[0mgenerated\u001b[0m \u001b[1;32mfrom\u001b[0m \u001b[0mgpt\u001b[0m \u001b[1;36m3.5\u001b[0m\u001b[1;33m)\u001b[0m\u001b[1;33m\u001b[0m\u001b[1;33m\u001b[0m\u001b[0m\n\u001b[0;32m      3\u001b[0m '''\n\u001b[1;32m----> 4\u001b[1;33m \u001b[1;32mimport\u001b[0m \u001b[0mtensorflow\u001b[0m \u001b[1;32mas\u001b[0m \u001b[0mtf\u001b[0m\u001b[1;33m\u001b[0m\u001b[1;33m\u001b[0m\u001b[0m\n\u001b[0m\u001b[0;32m      5\u001b[0m \u001b[1;32mimport\u001b[0m \u001b[0mnumpy\u001b[0m \u001b[1;32mas\u001b[0m \u001b[0mnp\u001b[0m\u001b[1;33m\u001b[0m\u001b[1;33m\u001b[0m\u001b[0m\n\u001b[0;32m      6\u001b[0m \u001b[1;32mimport\u001b[0m \u001b[0mos\u001b[0m\u001b[1;33m\u001b[0m\u001b[1;33m\u001b[0m\u001b[0m\n",
      "\u001b[1;31mModuleNotFoundError\u001b[0m: No module named 'tensorflow'"
     ]
    }
   ],
   "source": [
    "''' strain a tensorflow model that sorts the images\n",
    "(generated from gpt 3.5)\n",
    "'''\n",
    "import tensorflow as tf\n",
    "import numpy as np\n",
    "import os\n",
    "import random\n",
    "from tensorflow.keras.preprocessing.image import ImageDataGenerator\n",
    "\n",
    "# Define the parameters of the model\n",
    "input_shape = (300, 300, 3)\n",
    "num_classes = 3\n",
    "\n",
    "# Load the image data using ImageDataGenerator\n",
    "datagen = ImageDataGenerator(rescale=1./255)\n",
    "train_dir = './samples'\n",
    "train_data = datagen.flow_from_directory(directory=train_dir,\n",
    "                                         target_size=input_shape[:-1],\n",
    "                                         batch_size=32,\n",
    "                                         class_mode='categorical',\n",
    "                                         shuffle=True)\n",
    "\n",
    "# Define and compile the model\n",
    "model = tf.keras.models.Sequential()\n",
    "model.add(tf.keras.layers.Conv2D(32, (3, 3), activation='relu', input_shape=input_shape))\n",
    "model.add(tf.keras.layers.MaxPooling2D((2, 2)))\n",
    "model.add(tf.keras.layers.Conv2D(64, (3, 3), activation='relu'))\n",
    "model.add(tf.keras.layers.MaxPooling2D((2, 2)))\n",
    "model.add(tf.keras.layers.Conv2D(128, (3, 3), activation='relu'))\n",
    "model.add(tf.keras.layers.MaxPooling2D((2, 2)))\n",
    "model.add(tf.keras.layers.Flatten())\n",
    "model.add(tf.keras.layers.Dense(128, activation='relu'))\n",
    "model.add(tf.keras.layers.Dense(num_classes, activation='softmax'))\n",
    "\n",
    "model.compile(optimizer='adam',\n",
    "              loss='categorical_crossentropy',\n",
    "              metrics=['accuracy'])\n",
    "\n",
    "# Train the model\n",
    "model.fit(train_data, epochs=10)\n",
    "\n",
    "# Save the TensorFlow Lite model to a file\n",
    "converter = tf.lite.TFLiteConverter.from_keras_model(model)\n",
    "tflite_model = converter.convert()\n",
    "with open('signal_sleeves.tflite', 'wb') as f:\n",
    "    f.write(tflite_model)\n",
    "\n",
    "print(\"Model saved to signal_sleeves.tflite\")"
   ]
  },
  {
   "cell_type": "code",
   "execution_count": null,
   "id": "93b25acc",
   "metadata": {},
   "outputs": [],
   "source": []
  }
 ],
 "metadata": {
  "kernelspec": {
   "display_name": "Python 3 (ipykernel)",
   "language": "python",
   "name": "python3"
  },
  "language_info": {
   "codemirror_mode": {
    "name": "ipython",
    "version": 3
   },
   "file_extension": ".py",
   "mimetype": "text/x-python",
   "name": "python",
   "nbconvert_exporter": "python",
   "pygments_lexer": "ipython3",
   "version": "3.9.13"
  }
 },
 "nbformat": 4,
 "nbformat_minor": 5
}
